{
 "cells": [
  {
   "cell_type": "code",
   "execution_count": 1,
   "metadata": {},
   "outputs": [
    {
     "name": "stderr",
     "output_type": "stream",
     "text": [
      "C:\\Users\\sidrt\\AppData\\Local\\Packages\\PythonSoftwareFoundation.Python.3.10_qbz5n2kfra8p0\\LocalCache\\local-packages\\Python310\\site-packages\\tqdm\\auto.py:22: TqdmWarning: IProgress not found. Please update jupyter and ipywidgets. See https://ipywidgets.readthedocs.io/en/stable/user_install.html\n",
      "  from .autonotebook import tqdm as notebook_tqdm\n"
     ]
    }
   ],
   "source": [
    "import pandas as pd\n",
    "import numpy as np\n",
    "import importlib\n",
    "\n",
    "import experiment_runner\n",
    "import generate_synthetic_data\n",
    "from experiment_runner import ExperimentRunner\n",
    "from generate_synthetic_data import GenerateSyntheticData\n",
    "importlib.reload(experiment_runner)\n",
    "importlib.reload(generate_synthetic_data)\n",
    "from sklearn.model_selection import train_test_split"
   ]
  },
  {
   "cell_type": "markdown",
   "metadata": {},
   "source": [
    "### Steps\n",
    "1. Import the files\n",
    "2. Transform all their features\n",
    "3. Use the experiment runner and the generate synthetic data class to get info for the experiments\n"
   ]
  },
  {
   "cell_type": "code",
   "execution_count": null,
   "metadata": {},
   "outputs": [],
   "source": [
    "API_KEY = \"\""
   ]
  },
  {
   "cell_type": "code",
   "execution_count": null,
   "metadata": {},
   "outputs": [
    {
     "name": "stderr",
     "output_type": "stream",
     "text": [
      "c:\\siddharth\\programming\\school\\am226-final-proj\\experiment_runner.py:26: FutureWarning: Dropping of nuisance columns in DataFrame reductions (with 'numeric_only=None') is deprecated; in a future version this will raise TypeError.  Select only valid columns before calling the reduction.\n",
      "  characteristics['mean'] = full_data.mean().to_dict()\n",
      "c:\\siddharth\\programming\\school\\am226-final-proj\\experiment_runner.py:27: FutureWarning: Dropping of nuisance columns in DataFrame reductions (with 'numeric_only=None') is deprecated; in a future version this will raise TypeError.  Select only valid columns before calling the reduction.\n",
      "  characteristics['std'] = full_data.std().to_dict()\n",
      "c:\\siddharth\\programming\\school\\am226-final-proj\\experiment_runner.py:30: FutureWarning: Dropping of nuisance columns in DataFrame reductions (with 'numeric_only=None') is deprecated; in a future version this will raise TypeError.  Select only valid columns before calling the reduction.\n",
      "  characteristics['median'] = full_data.median().to_dict()\n"
     ]
    },
    {
     "name": "stdout",
     "output_type": "stream",
     "text": [
      "```json\n",
      "[\n",
      "  {\"Car_Name\": \"Maruti Suzuki Swift\", \"Year\": 2019, \"Selling_Price\": 4.5, \"Present_Price\": 6.8, \"Kms_Driven\": 35000, \"Fuel_Type\": \"Petrol\", \"Seller_Type\": \"Dealer\", \"Transmission\": \"Manual\", \"Owner\": 0},\n",
      "  {\"Car_Name\": \"Hyundai Creta\", \"Year\": 2017, \"Selling_Price\": 8.75, \"Present_Price\": 12.5, \"Kms_Driven\": 42000, \"Fuel_Type\": \"Diesel\", \"Seller_Type\": \"Dealer\", \"Transmission\": \"Automatic\", \"Owner\": 1},\n",
      "  {\"Car_Name\": \"Honda City\", \"Year\": 2015, \"Selling_Price\": 3.2, \"Present_Price\": 5.0, \"Kms_Driven\": 60000, \"Fuel_Type\": \"Petrol\", \"Seller_Type\": \"Individual\", \"Transmission\": \"Manual\", \"Owner\": 0},\n",
      "  {\"Car_Name\": \"Mahindra XUV500\", \"Year\": 2018, \"Selling_Price\": 10.0, \"Present_Price\": 14.0, \"Kms_Driven\": 55000, \"Fuel_Type\": \"Diesel\", \"Seller_Type\": \"Dealer\", \"Transmission\": \"Manual\", \"Owner\": 0},\n",
      "  {\"Car_Name\": \"Tata Nexon\", \"Year\": 2020, \"Selling_Price\": 7.0, \"Present_Price\": 9.5, \"Kms_Driven\": 28000, \"Fuel_Type\": \"Petrol\", \"Seller_Type\": \"Dealer\", \"Transmission\": \"Manual\", \"Owner\": 0},\n",
      "  {\"Car_Name\": \"Ford Figo\", \"Year\": 2016, \"Selling_Price\": 2.8, \"Present_Price\": 4.2, \"Kms_Driven\": 70000, \"Fuel_Type\": \"Petrol\", \"Seller_Type\": \"Individual\", \"Transmission\": \"Manual\", \"Owner\": 1},\n",
      "  {\"Car_Name\": \"Toyota Innova\", \"Year\": 2014, \"Selling_Price\": 12.0, \"Present_Price\": 18.0, \"Kms_Driven\": 80000, \"Fuel_Type\": \"Diesel\", \"Seller_Type\": \"Dealer\", \"Transmission\": \"Manual\", \"Owner\": 0},\n",
      "  {\"Car_Name\": \"Maruti Suzuki Alto\", \"Year\": 2019, \"Selling_Price\": 2.5, \"Present_Price\": 3.5, \"Kms_Driven\": 20000, \"Fuel_Type\": \"Petrol\", \"Seller_Type\": \"Individual\", \"Transmission\": \"Manual\", \"Owner\": 0},\n",
      "  {\"Car_Name\": \"Hyundai i20\", \"Year\": 2017, \"Selling_Price\": 5.5, \"Present_Price\": 7.8, \"Kms_Driven\": 48000, \"Fuel_Type\": \"Petrol\", \"Seller_Type\": \"Dealer\", \"Transmission\": \"Automatic\", \"Owner\": 0},\n",
      "  {\"Car_Name\": \"Volkswagen Polo\", \"Year\": 2018, \"Selling_Price\": 6.2, \"Present_Price\": 8.5, \"Kms_Driven\": 32000, \"Fuel_Type\": \"Diesel\", \"Seller_Type\": \"Dealer\", \"Transmission\": \"Manual\", \"Owner\": 0}\n",
      "]\n",
      "```\n",
      "\n"
     ]
    },
    {
     "ename": "TypeError",
     "evalue": "can't convert np.ndarray of type numpy.object_. The only supported types are: float64, float32, float16, complex64, complex128, int64, int32, int16, int8, uint8, and bool.",
     "output_type": "error",
     "traceback": [
      "\u001b[1;31m---------------------------------------------------------------------------\u001b[0m",
      "\u001b[1;31mTypeError\u001b[0m                                 Traceback (most recent call last)",
      "Input \u001b[1;32mIn [2]\u001b[0m, in \u001b[0;36m<cell line: 14>\u001b[1;34m()\u001b[0m\n\u001b[0;32m     30\u001b[0m train_data, test_data \u001b[38;5;241m=\u001b[39m train_test_split(combined_data, test_size\u001b[38;5;241m=\u001b[39m\u001b[38;5;241m0.2\u001b[39m, random_state\u001b[38;5;241m=\u001b[39m\u001b[38;5;241m42\u001b[39m)\n\u001b[0;32m     32\u001b[0m \u001b[38;5;66;03m# Train neural network\u001b[39;00m\n\u001b[1;32m---> 33\u001b[0m \u001b[43mexperiment_runner\u001b[49m\u001b[38;5;241;43m.\u001b[39;49m\u001b[43mtrain_network\u001b[49m\u001b[43m(\u001b[49m\u001b[43mtrain_data\u001b[49m\u001b[43m)\u001b[49m\n\u001b[0;32m     35\u001b[0m \u001b[38;5;66;03m# Benchmark network\u001b[39;00m\n\u001b[0;32m     36\u001b[0m mse \u001b[38;5;241m=\u001b[39m experiment_runner\u001b[38;5;241m.\u001b[39mbenchmark_network(test_data)\n",
      "File \u001b[1;32mc:\\siddharth\\programming\\school\\am226-final-proj\\experiment_runner.py:43\u001b[0m, in \u001b[0;36mExperimentRunner.train_network\u001b[1;34m(self, train_data)\u001b[0m\n\u001b[0;32m     40\u001b[0m targets \u001b[38;5;241m=\u001b[39m train_data[\u001b[38;5;28mself\u001b[39m\u001b[38;5;241m.\u001b[39mtarget_column]\u001b[38;5;241m.\u001b[39mto_numpy()\n\u001b[0;32m     42\u001b[0m \u001b[38;5;66;03m# Convert inputs and targets to PyTorch tensors\u001b[39;00m\n\u001b[1;32m---> 43\u001b[0m inputs_tensor \u001b[38;5;241m=\u001b[39m \u001b[43mtorch\u001b[49m\u001b[38;5;241;43m.\u001b[39;49m\u001b[43mtensor\u001b[49m\u001b[43m(\u001b[49m\u001b[43minputs\u001b[49m\u001b[43m,\u001b[49m\u001b[43m \u001b[49m\u001b[43mdtype\u001b[49m\u001b[38;5;241;43m=\u001b[39;49m\u001b[43mtorch\u001b[49m\u001b[38;5;241;43m.\u001b[39;49m\u001b[43mfloat32\u001b[49m\u001b[43m)\u001b[49m\n\u001b[0;32m     44\u001b[0m targets_tensor \u001b[38;5;241m=\u001b[39m torch\u001b[38;5;241m.\u001b[39mtensor(targets, dtype\u001b[38;5;241m=\u001b[39mtorch\u001b[38;5;241m.\u001b[39mfloat32)\u001b[38;5;241m.\u001b[39munsqueeze(\u001b[38;5;241m1\u001b[39m)\n\u001b[0;32m     46\u001b[0m \u001b[38;5;66;03m# Pass this information into the neural network\u001b[39;00m\n",
      "\u001b[1;31mTypeError\u001b[0m: can't convert np.ndarray of type numpy.object_. The only supported types are: float64, float32, float16, complex64, complex128, int64, int32, int16, int8, uint8, and bool."
     ]
    }
   ],
   "source": [
    "# Load dataset (replace with your dataset)\n",
    "dataset = pd.read_csv('car.csv') \n",
    "target_column = 'Transmission' \n",
    "#subset_sizes = [0.01, 0.1, 0.3, 0.5, 0.7, 1.0]  # Proportions of the dataset\n",
    "\n",
    "subset_sizes = [0.01]\n",
    "\n",
    "# Initialize synthetic data generator and experiment runner\n",
    "synthetic_data_generator = GenerateSyntheticData(API_KEY)\n",
    "experiment_runner = ExperimentRunner(dataset, target_column)\n",
    "\n",
    "# Loop through subset sizes\n",
    "results = []\n",
    "for prop in subset_sizes:\n",
    "    # Take subset of the data\n",
    "    subset = dataset.sample(frac=prop, random_state=42)\n",
    "    \n",
    "    # Compute subset characteristics (dimensions, variance, skewness)\n",
    "    characteristics = experiment_runner.compute_characteristics(subset)\n",
    "    \n",
    "    # Generate synthetic data using subset\n",
    "    synthetic_data = synthetic_data_generator.predict(10,subset)\n",
    "    print(synthetic_data)\n",
    "    \n",
    "    # Combine real and synthetic data for training\n",
    "    # combined_data = pd.concat([subset, synthetic_data])\n",
    "    combined_data = subset\n",
    "\n",
    "    # Split combined data into train/test\n",
    "    train_data, test_data = train_test_split(combined_data, test_size=0.2, random_state=42)\n",
    "    \n",
    "    # Train neural network\n",
    "    experiment_runner.train_network(train_data)\n",
    "    \n",
    "    # Benchmark network\n",
    "    mse = experiment_runner.benchmark_network(test_data)\n",
    "    \n",
    "    # Save results\n",
    "    results.append({\n",
    "        \"subset_proportion\": prop,\n",
    "        \"characteristics\": characteristics,\n",
    "        \"mse\": mse\n",
    "    })\n",
    "\n",
    "# Print results\n",
    "for result in results:\n",
    "    print(f\"Subset Proportion: {result['subset_proportion']}\")\n",
    "    print(f\"Characteristics: {result['characteristics']}\")\n",
    "    print(f\"Mean Squared Error: {result['mse']}\\n\")\n"
   ]
  },
  {
   "cell_type": "code",
   "execution_count": null,
   "metadata": {},
   "outputs": [],
   "source": []
  }
 ],
 "metadata": {
  "kernelspec": {
   "display_name": "Python 3",
   "language": "python",
   "name": "python3"
  },
  "language_info": {
   "codemirror_mode": {
    "name": "ipython",
    "version": 3
   },
   "file_extension": ".py",
   "mimetype": "text/x-python",
   "name": "python",
   "nbconvert_exporter": "python",
   "pygments_lexer": "ipython3",
   "version": "3.10.11"
  }
 },
 "nbformat": 4,
 "nbformat_minor": 2
}
